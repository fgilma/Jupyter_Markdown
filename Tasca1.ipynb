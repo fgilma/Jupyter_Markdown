{
 "cells": [
  {
   "cell_type": "markdown",
   "metadata": {},
   "source": [
    "# Nivell 1.\n",
    "######  Exercici 1:\n",
    "**Instal·la el programa Anaconda amb Python 3, i Jupyter Notebook.**\n",
    "\n",
    "Ja el tenia instal·lat, només és seguir els passos per la descàrrega a [Anaconda](https://www.anaconda.com/) que també instal·la Jupyter."
   ]
  },
  {
   "cell_type": "markdown",
   "metadata": {},
   "source": [
    "######  Exercici 2:\n",
    "**Utilitzant Jupyter Notebook executa alguns càlculs senzills, a la vegada que et familiaritzes amb el llenguatge Markdown.**\n",
    "\n",
    "_Realitza els següents exercicis:_\n",
    "- Calcula l'àrea d'un rectangle de costats 3 i 4, _S= a·b_\n",
    "- Calcula l'àrea d'un cercle de radi 2, _S=_ $\\pi$$r^2$\n",
    "- Calcula $\\sqrt{9}$\n",
    "- Calcula els 15 primers nombres de la sèrie de Fibonacci"
   ]
  },
  {
   "cell_type": "code",
   "execution_count": 4,
   "metadata": {},
   "outputs": [
    {
     "name": "stdout",
     "output_type": "stream",
     "text": [
      "L'àrea del rectangle de costats 3 i 4 és 12\n"
     ]
    }
   ],
   "source": [
    "a=3\n",
    "b=4\n",
    "print('L\\'àrea del rectangle de costats %s i %s és %s' %(a, b, a*b))"
   ]
  },
  {
   "cell_type": "code",
   "execution_count": 5,
   "metadata": {},
   "outputs": [
    {
     "name": "stdout",
     "output_type": "stream",
     "text": [
      "L'àrea del cercle de radi 2 és 12.57\n"
     ]
    }
   ],
   "source": [
    "from math import pi\n",
    "radio=2\n",
    "area=pi*radio**2\n",
    "print('L\\'àrea del cercle de radi {0} és {1:2.2f}'.format(radio,area))"
   ]
  },
  {
   "cell_type": "code",
   "execution_count": 1,
   "metadata": {},
   "outputs": [
    {
     "name": "stdout",
     "output_type": "stream",
     "text": [
      "L'arrel quadrada de 9 és 3.0\n"
     ]
    }
   ],
   "source": [
    "from math import sqrt\n",
    "n=9\n",
    "print('L\\'arrel quadrada de {0} és {1}'.format(n,sqrt(n)))"
   ]
  },
  {
   "cell_type": "code",
   "execution_count": 8,
   "metadata": {},
   "outputs": [
    {
     "name": "stdout",
     "output_type": "stream",
     "text": [
      "Els 15 primers nombres de la sèrie de Fibonacci són:\n",
      "0 1 1 2 3 5 8 13 21 34 55 89 144 233 377\n"
     ]
    }
   ],
   "source": [
    "n=15\n",
    "a,b=0,1\n",
    "lista=[a,b]\n",
    "for i in range(n-2):\n",
    "    a,b=b,a+b\n",
    "    lista.append(b)\n",
    "print('Els {0} primers nombres de la sèrie de Fibonacci són:'.format(n))\n",
    "print(*lista)"
   ]
  },
  {
   "cell_type": "markdown",
   "metadata": {},
   "source": [
    "######  Exercici 3:\n",
    "**Prova de crear títols, llistes, canviar l’estil de la lletra o afegir imatges dins del Notebook.**"
   ]
  },
  {
   "cell_type": "markdown",
   "metadata": {},
   "source": [
    "# Títol  h1\n",
    "## Subtítol h2\n",
    "###### Subtítol h6\n",
    "\n"
   ]
  },
  {
   "cell_type": "markdown",
   "metadata": {},
   "source": [
    "###### Llistat desordenat:\n",
    "- Dilluns\n",
    "- Dimarts\n",
    "- Dimecres\n",
    "- ..."
   ]
  },
  {
   "cell_type": "markdown",
   "metadata": {},
   "source": [
    "###### Llistat ordenat:\n",
    "1. Gener\n",
    "2. Febrer\n",
    "3. Març\n",
    "4. ..."
   ]
  },
  {
   "cell_type": "markdown",
   "metadata": {},
   "source": [
    "# **Diferents estils de lletra:**\n",
    "\n",
    "**En bold**\n",
    "\n",
    "\n",
    "*En italic*\n",
    "___\n",
    "\n",
    "~~Subratllat~~\n",
    "___\n",
    "\n",
    ">Blockquote\n",
    "\n",
    "\n",
    "[Link a IT Academy](https://www.barcelonactiva.cat/es/itacademy)"
   ]
  },
  {
   "cell_type": "markdown",
   "metadata": {},
   "source": [
    "# Taula:\n",
    "___\n",
    "### Classificació Lliga:\n",
    "Equip | Partits guanyats | Punts\n",
    ":--- | :---: | ---\n",
    "*Atletico* | 10 | **15**\n",
    "*Barcelona* | 10 | **14**\n",
    "*R. Madrid* | 10 | **12**\n"
   ]
  },
  {
   "cell_type": "markdown",
   "metadata": {},
   "source": [
    "# Afegir imatges:\n",
    "\n",
    "![alt text](https://www.barcelonactiva.cat/image/layout_set_logo?img_id=37024&t=1617774045179 \"Logo Barcelona Activa\")\n"
   ]
  },
  {
   "cell_type": "markdown",
   "metadata": {},
   "source": [
    "# Nivell 2.\n",
    "######  Exercici 1:\n",
    "**Exporta el Notebook com a pdf i com a html.**"
   ]
  },
  {
   "cell_type": "markdown",
   "metadata": {},
   "source": [
    "Per exportar-lo com a HTML només hem d'anar a file/Download as/HTML i em genera el fitxe HTML. Per a pdf anant a file/Download as/PDF via Latex em dóna error perquè no troba la llibreria xelatex. He triat l'opció de exportar-lo a PDF via HTML en comptes via Latex. Aquesta opció no surt al menú, per aconseguir-ho m'he descarregat jupyter-as-pdf seguint els passos d'[aquí](https://towardsdatascience.com/jupyter-notebook-to-pdf-in-a-few-lines-3c48d68a7a63#:~:text=In%20your%20notebook%2C%20click%20the,notebook%20as%20a%20PDF%20file.)\n",
    "\n",
    "Per últim, una vegada que tenim la nova opció al menú només fent file/Download as/PDF via HTML em crea el fitxer PDF."
   ]
  },
  {
   "cell_type": "markdown",
   "metadata": {},
   "source": [
    "# Nivell 3.\n",
    "######  Exercici 1:\n",
    "**Instal·la Nbextensions al Notebook de Jupyter.**"
   ]
  },
  {
   "cell_type": "markdown",
   "metadata": {},
   "source": [
    "He instal-lat Nbextensions mitjançant la shell de Conda seguint els passos d'aquest [link](https://gist.github.com/ElissandroMendes/f1b07522797f947dfb75041738183a65).\n",
    "\n",
    "Després, com a exemple, a la tag nbextensionsConfig he activat l'extensió CodeFolding que permet plegar codi de funcions, loops, classes,etc.\n",
    "És molt útil per fer un codi més llegible i net.\n"
   ]
  },
  {
   "cell_type": "code",
   "execution_count": null,
   "metadata": {
    "code_folding": [
     0
    ]
   },
   "outputs": [],
   "source": [
    "#Clicant sobre la fletxa el codi es plega i desplega\n",
    "#plegat\n",
    "def prueba(a,b):\n",
    "    s=a+b\n",
    "    return s"
   ]
  },
  {
   "cell_type": "code",
   "execution_count": 5,
   "metadata": {
    "code_folding": []
   },
   "outputs": [],
   "source": [
    "#mateix codi desplegat\n",
    "def prueba(a,b):\n",
    "    s=a+b\n",
    "    return s"
   ]
  },
  {
   "cell_type": "code",
   "execution_count": 7,
   "metadata": {},
   "outputs": [
    {
     "data": {
      "text/plain": [
       "7"
      ]
     },
     "execution_count": 7,
     "metadata": {},
     "output_type": "execute_result"
    }
   ],
   "source": [
    "prueba(3,4)"
   ]
  },
  {
   "cell_type": "markdown",
   "metadata": {},
   "source": [
    "He afegit una imatge del codi tancat i obert ja que al github es veu només desplegat."
   ]
  },
  {
   "cell_type": "code",
   "execution_count": 4,
   "metadata": {},
   "outputs": [
    {
     "data": {
      "image/png": "[encoded data removed]",
      "text/plain": [
       "<PIL.PngImagePlugin.PngImageFile image mode=RGBA size=531x186 at 0x110BB62CE88>"
      ]
     },
     "execution_count": 4,
     "metadata": {},
     "output_type": "execute_result"
    }
   ],
   "source": [
    "from PIL import Image\n",
    "#url='https://mott.pe/noticias/wp-content/uploads/2016/02/perro-playa-cuidados.jpg'\n",
    "img = Image.open('captura.png')\n",
    "img"
   ]
  },
  {
   "cell_type": "code",
   "execution_count": null,
   "metadata": {},
   "outputs": [],
   "source": []
  }
 ],
 "metadata": {
  "kernelspec": {
   "display_name": "Python 3",
   "language": "python",
   "name": "python3"
  },
  "language_info": {
   "codemirror_mode": {
    "name": "ipython",
    "version": 3
   },
   "file_extension": ".py",
   "mimetype": "text/x-python",
   "name": "python",
   "nbconvert_exporter": "python",
   "pygments_lexer": "ipython3",
   "version": "3.7.4"
  }
 },
 "nbformat": 4,
 "nbformat_minor": 2
}
